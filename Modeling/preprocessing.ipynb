{
 "cells": [
  {
   "cell_type": "markdown",
   "metadata": {},
   "source": [
    "## **0. Library**"
   ]
  },
  {
   "cell_type": "code",
   "execution_count": 1,
   "metadata": {},
   "outputs": [],
   "source": [
    "import os\n",
    "import pandas as pd\n",
    "import warnings\n",
    "warnings.filterwarnings(\"ignore\")"
   ]
  },
  {
   "cell_type": "markdown",
   "metadata": {},
   "source": [
    "## **1. Data**"
   ]
  },
  {
   "cell_type": "code",
   "execution_count": 7,
   "metadata": {},
   "outputs": [],
   "source": [
    "train_path = './Dataset/data/raw_data/train/'\n",
    "test_path = './Dataset/data/raw_data/test/'\n",
    "\n",
    "train_df = pd.DataFrame()\n",
    "test_df = pd.DataFrame()\n",
    "\n",
    "for file in os.listdir(train_path):\n",
    "    df = pd.read_csv(train_path + file)\n",
    "    if 'dchg' in file:\n",
    "        df['chg'] = 'dchg' # 방전중\n",
    "    else:\n",
    "        df['chg'] = 'chg' # 충전중\n",
    "    train_df = pd.concat([train_df, df])\n",
    "\n",
    "for file in os.listdir(test_path):\n",
    "    df = pd.read_csv(test_path + file)\n",
    "    if 'dchg' in file:\n",
    "        df['chg'] = 'dchg' # 방전중\n",
    "    else:\n",
    "        df['chg'] = 'chg' # 충전중\n",
    "    if 'OK' in file:\n",
    "        df['fault'] = 'OK' # 양품\n",
    "    else:\n",
    "        df['fault'] = 'NG' # 불량품\n",
    "    test_df = pd.concat([test_df, df])"
   ]
  },
  {
   "cell_type": "code",
   "execution_count": 8,
   "metadata": {},
   "outputs": [
    {
     "data": {
      "text/plain": [
       "((482639, 232), (23392, 233))"
      ]
     },
     "execution_count": 8,
     "metadata": {},
     "output_type": "execute_result"
    }
   ],
   "source": [
    "train_df.shape, test_df.shape"
   ]
  },
  {
   "cell_type": "code",
   "execution_count": 9,
   "metadata": {},
   "outputs": [
    {
     "data": {
      "text/html": [
       "<div>\n",
       "<style scoped>\n",
       "    .dataframe tbody tr th:only-of-type {\n",
       "        vertical-align: middle;\n",
       "    }\n",
       "\n",
       "    .dataframe tbody tr th {\n",
       "        vertical-align: top;\n",
       "    }\n",
       "\n",
       "    .dataframe thead th {\n",
       "        text-align: right;\n",
       "    }\n",
       "</style>\n",
       "<table border=\"1\" class=\"dataframe\">\n",
       "  <thead>\n",
       "    <tr style=\"text-align: right;\">\n",
       "      <th></th>\n",
       "      <th>Date</th>\n",
       "      <th>Time</th>\n",
       "      <th>SerialNumber</th>\n",
       "      <th>Voltage</th>\n",
       "      <th>Current</th>\n",
       "      <th>RSOCmin</th>\n",
       "      <th>RSOCmax</th>\n",
       "      <th>RSOCavg</th>\n",
       "      <th>USOCmin</th>\n",
       "      <th>USOCmax</th>\n",
       "      <th>...</th>\n",
       "      <th>M12T02</th>\n",
       "      <th>M13T01</th>\n",
       "      <th>M13T02</th>\n",
       "      <th>M14T01</th>\n",
       "      <th>M14T02</th>\n",
       "      <th>M15T01</th>\n",
       "      <th>M15T02</th>\n",
       "      <th>M16T01</th>\n",
       "      <th>M16T02</th>\n",
       "      <th>chg</th>\n",
       "    </tr>\n",
       "  </thead>\n",
       "  <tbody>\n",
       "    <tr>\n",
       "      <th>0</th>\n",
       "      <td>2020-08-27</td>\n",
       "      <td>16:58:25</td>\n",
       "      <td>1013.0</td>\n",
       "      <td>712.6</td>\n",
       "      <td>0.0</td>\n",
       "      <td>89.02</td>\n",
       "      <td>89.71</td>\n",
       "      <td>89.56</td>\n",
       "      <td>99.0</td>\n",
       "      <td>100.0</td>\n",
       "      <td>...</td>\n",
       "      <td>33.9</td>\n",
       "      <td>34.0</td>\n",
       "      <td>34.2</td>\n",
       "      <td>33.8</td>\n",
       "      <td>33.9</td>\n",
       "      <td>34.1</td>\n",
       "      <td>34.2</td>\n",
       "      <td>33.5</td>\n",
       "      <td>33.6</td>\n",
       "      <td>dchg</td>\n",
       "    </tr>\n",
       "    <tr>\n",
       "      <th>1</th>\n",
       "      <td>2020-08-27</td>\n",
       "      <td>16:58:26</td>\n",
       "      <td>1013.0</td>\n",
       "      <td>712.6</td>\n",
       "      <td>0.0</td>\n",
       "      <td>89.02</td>\n",
       "      <td>89.71</td>\n",
       "      <td>89.56</td>\n",
       "      <td>99.0</td>\n",
       "      <td>100.0</td>\n",
       "      <td>...</td>\n",
       "      <td>33.9</td>\n",
       "      <td>34.0</td>\n",
       "      <td>34.2</td>\n",
       "      <td>33.8</td>\n",
       "      <td>33.9</td>\n",
       "      <td>34.1</td>\n",
       "      <td>34.2</td>\n",
       "      <td>33.5</td>\n",
       "      <td>33.6</td>\n",
       "      <td>dchg</td>\n",
       "    </tr>\n",
       "    <tr>\n",
       "      <th>2</th>\n",
       "      <td>2020-08-27</td>\n",
       "      <td>16:58:27</td>\n",
       "      <td>1013.0</td>\n",
       "      <td>712.6</td>\n",
       "      <td>0.0</td>\n",
       "      <td>89.02</td>\n",
       "      <td>89.71</td>\n",
       "      <td>89.56</td>\n",
       "      <td>99.0</td>\n",
       "      <td>100.0</td>\n",
       "      <td>...</td>\n",
       "      <td>33.9</td>\n",
       "      <td>34.0</td>\n",
       "      <td>34.2</td>\n",
       "      <td>33.7</td>\n",
       "      <td>33.9</td>\n",
       "      <td>34.1</td>\n",
       "      <td>34.2</td>\n",
       "      <td>33.5</td>\n",
       "      <td>33.6</td>\n",
       "      <td>dchg</td>\n",
       "    </tr>\n",
       "  </tbody>\n",
       "</table>\n",
       "<p>3 rows × 232 columns</p>\n",
       "</div>"
      ],
      "text/plain": [
       "         Date      Time  SerialNumber  Voltage  Current  RSOCmin  RSOCmax  \\\n",
       "0  2020-08-27  16:58:25        1013.0    712.6      0.0    89.02    89.71   \n",
       "1  2020-08-27  16:58:26        1013.0    712.6      0.0    89.02    89.71   \n",
       "2  2020-08-27  16:58:27        1013.0    712.6      0.0    89.02    89.71   \n",
       "\n",
       "   RSOCavg  USOCmin  USOCmax  ...  M12T02  M13T01  M13T02  M14T01  M14T02  \\\n",
       "0    89.56     99.0    100.0  ...    33.9    34.0    34.2    33.8    33.9   \n",
       "1    89.56     99.0    100.0  ...    33.9    34.0    34.2    33.8    33.9   \n",
       "2    89.56     99.0    100.0  ...    33.9    34.0    34.2    33.7    33.9   \n",
       "\n",
       "   M15T01  M15T02  M16T01  M16T02   chg  \n",
       "0    34.1    34.2    33.5    33.6  dchg  \n",
       "1    34.1    34.2    33.5    33.6  dchg  \n",
       "2    34.1    34.2    33.5    33.6  dchg  \n",
       "\n",
       "[3 rows x 232 columns]"
      ]
     },
     "execution_count": 9,
     "metadata": {},
     "output_type": "execute_result"
    }
   ],
   "source": [
    "train_df.head(3)"
   ]
  },
  {
   "cell_type": "code",
   "execution_count": 10,
   "metadata": {},
   "outputs": [
    {
     "data": {
      "text/html": [
       "<div>\n",
       "<style scoped>\n",
       "    .dataframe tbody tr th:only-of-type {\n",
       "        vertical-align: middle;\n",
       "    }\n",
       "\n",
       "    .dataframe tbody tr th {\n",
       "        vertical-align: top;\n",
       "    }\n",
       "\n",
       "    .dataframe thead th {\n",
       "        text-align: right;\n",
       "    }\n",
       "</style>\n",
       "<table border=\"1\" class=\"dataframe\">\n",
       "  <thead>\n",
       "    <tr style=\"text-align: right;\">\n",
       "      <th></th>\n",
       "      <th>Date</th>\n",
       "      <th>Time</th>\n",
       "      <th>SerialNumber</th>\n",
       "      <th>Voltage</th>\n",
       "      <th>Current</th>\n",
       "      <th>RSOCmin</th>\n",
       "      <th>RSOCmax</th>\n",
       "      <th>RSOCavg</th>\n",
       "      <th>USOCmin</th>\n",
       "      <th>USOCmax</th>\n",
       "      <th>...</th>\n",
       "      <th>M13T01</th>\n",
       "      <th>M13T02</th>\n",
       "      <th>M14T01</th>\n",
       "      <th>M14T02</th>\n",
       "      <th>M15T01</th>\n",
       "      <th>M15T02</th>\n",
       "      <th>M16T01</th>\n",
       "      <th>M16T02</th>\n",
       "      <th>chg</th>\n",
       "      <th>fault</th>\n",
       "    </tr>\n",
       "  </thead>\n",
       "  <tbody>\n",
       "    <tr>\n",
       "      <th>0</th>\n",
       "      <td>2021-09-01</td>\n",
       "      <td>10:18:23</td>\n",
       "      <td>578</td>\n",
       "      <td>0</td>\n",
       "      <td>0</td>\n",
       "      <td>0</td>\n",
       "      <td>0</td>\n",
       "      <td>0</td>\n",
       "      <td>0</td>\n",
       "      <td>0</td>\n",
       "      <td>...</td>\n",
       "      <td>24.4</td>\n",
       "      <td>24.6</td>\n",
       "      <td>24.8</td>\n",
       "      <td>24.7</td>\n",
       "      <td>24.4</td>\n",
       "      <td>24.4</td>\n",
       "      <td>24.8</td>\n",
       "      <td>24.8</td>\n",
       "      <td>chg</td>\n",
       "      <td>NG</td>\n",
       "    </tr>\n",
       "    <tr>\n",
       "      <th>1</th>\n",
       "      <td>2021-09-01</td>\n",
       "      <td>10:18:24</td>\n",
       "      <td>578</td>\n",
       "      <td>0</td>\n",
       "      <td>0</td>\n",
       "      <td>0</td>\n",
       "      <td>0</td>\n",
       "      <td>0</td>\n",
       "      <td>0</td>\n",
       "      <td>0</td>\n",
       "      <td>...</td>\n",
       "      <td>24.4</td>\n",
       "      <td>24.6</td>\n",
       "      <td>24.8</td>\n",
       "      <td>24.7</td>\n",
       "      <td>24.4</td>\n",
       "      <td>24.4</td>\n",
       "      <td>24.8</td>\n",
       "      <td>24.8</td>\n",
       "      <td>chg</td>\n",
       "      <td>NG</td>\n",
       "    </tr>\n",
       "    <tr>\n",
       "      <th>2</th>\n",
       "      <td>2021-09-01</td>\n",
       "      <td>10:18:25</td>\n",
       "      <td>578</td>\n",
       "      <td>0</td>\n",
       "      <td>0</td>\n",
       "      <td>0</td>\n",
       "      <td>0</td>\n",
       "      <td>0</td>\n",
       "      <td>0</td>\n",
       "      <td>0</td>\n",
       "      <td>...</td>\n",
       "      <td>24.4</td>\n",
       "      <td>24.6</td>\n",
       "      <td>24.8</td>\n",
       "      <td>24.7</td>\n",
       "      <td>24.5</td>\n",
       "      <td>24.4</td>\n",
       "      <td>24.8</td>\n",
       "      <td>24.8</td>\n",
       "      <td>chg</td>\n",
       "      <td>NG</td>\n",
       "    </tr>\n",
       "  </tbody>\n",
       "</table>\n",
       "<p>3 rows × 233 columns</p>\n",
       "</div>"
      ],
      "text/plain": [
       "         Date      Time  SerialNumber  Voltage  Current  RSOCmin  RSOCmax  \\\n",
       "0  2021-09-01  10:18:23           578        0        0        0        0   \n",
       "1  2021-09-01  10:18:24           578        0        0        0        0   \n",
       "2  2021-09-01  10:18:25           578        0        0        0        0   \n",
       "\n",
       "   RSOCavg  USOCmin  USOCmax  ...  M13T01  M13T02  M14T01  M14T02  M15T01  \\\n",
       "0        0        0        0  ...    24.4    24.6    24.8    24.7    24.4   \n",
       "1        0        0        0  ...    24.4    24.6    24.8    24.7    24.4   \n",
       "2        0        0        0  ...    24.4    24.6    24.8    24.7    24.5   \n",
       "\n",
       "   M15T02  M16T01  M16T02  chg  fault  \n",
       "0    24.4    24.8    24.8  chg     NG  \n",
       "1    24.4    24.8    24.8  chg     NG  \n",
       "2    24.4    24.8    24.8  chg     NG  \n",
       "\n",
       "[3 rows x 233 columns]"
      ]
     },
     "execution_count": 10,
     "metadata": {},
     "output_type": "execute_result"
    }
   ],
   "source": [
    "test_df.head(3)"
   ]
  },
  {
   "cell_type": "markdown",
   "metadata": {},
   "source": [
    "## **2. Preprocessing**"
   ]
  },
  {
   "cell_type": "markdown",
   "metadata": {},
   "source": [
    "#### **2.1 Data Types**"
   ]
  },
  {
   "cell_type": "code",
   "execution_count": 11,
   "metadata": {},
   "outputs": [
    {
     "data": {
      "text/plain": [
       "Date             object\n",
       "Time             object\n",
       "SerialNumber    float64\n",
       "Voltage         float64\n",
       "Current         float64\n",
       "                 ...   \n",
       "M15T01          float64\n",
       "M15T02          float64\n",
       "M16T01          float64\n",
       "M16T02          float64\n",
       "chg              object\n",
       "Length: 232, dtype: object"
      ]
     },
     "execution_count": 11,
     "metadata": {},
     "output_type": "execute_result"
    }
   ],
   "source": [
    "train_df.dtypes"
   ]
  },
  {
   "cell_type": "code",
   "execution_count": 12,
   "metadata": {},
   "outputs": [
    {
     "data": {
      "text/plain": [
       "Date             object\n",
       "Time             object\n",
       "SerialNumber      int64\n",
       "Voltage           int64\n",
       "Current           int64\n",
       "                 ...   \n",
       "M15T02          float64\n",
       "M16T01          float64\n",
       "M16T02          float64\n",
       "chg              object\n",
       "fault            object\n",
       "Length: 233, dtype: object"
      ]
     },
     "execution_count": 12,
     "metadata": {},
     "output_type": "execute_result"
    }
   ],
   "source": [
    "test_df.dtypes"
   ]
  },
  {
   "cell_type": "code",
   "execution_count": 13,
   "metadata": {},
   "outputs": [],
   "source": [
    "train_df['Date'] = pd.to_datetime(train_df['Date'])\n",
    "train_df['Time'] = pd.to_datetime(train_df['Time'])\n",
    "\n",
    "test_df['Date'] = pd.to_datetime(test_df['Date'])\n",
    "test_df['Time'] = pd.to_datetime(test_df['Time'])"
   ]
  },
  {
   "cell_type": "code",
   "execution_count": 14,
   "metadata": {},
   "outputs": [
    {
     "data": {
      "text/plain": [
       "Date            datetime64[ns]\n",
       "Time            datetime64[ns]\n",
       "SerialNumber           float64\n",
       "Voltage                float64\n",
       "Current                float64\n",
       "                     ...      \n",
       "M15T01                 float64\n",
       "M15T02                 float64\n",
       "M16T01                 float64\n",
       "M16T02                 float64\n",
       "chg                     object\n",
       "Length: 232, dtype: object"
      ]
     },
     "execution_count": 14,
     "metadata": {},
     "output_type": "execute_result"
    }
   ],
   "source": [
    "train_df.dtypes"
   ]
  },
  {
   "cell_type": "code",
   "execution_count": 15,
   "metadata": {},
   "outputs": [
    {
     "data": {
      "text/plain": [
       "Date            datetime64[ns]\n",
       "Time            datetime64[ns]\n",
       "SerialNumber             int64\n",
       "Voltage                  int64\n",
       "Current                  int64\n",
       "                     ...      \n",
       "M15T02                 float64\n",
       "M16T01                 float64\n",
       "M16T02                 float64\n",
       "chg                     object\n",
       "fault                   object\n",
       "Length: 233, dtype: object"
      ]
     },
     "execution_count": 15,
     "metadata": {},
     "output_type": "execute_result"
    }
   ],
   "source": [
    "test_df.dtypes"
   ]
  },
  {
   "cell_type": "markdown",
   "metadata": {},
   "source": [
    "#### **2.2 Missing Values**"
   ]
  },
  {
   "cell_type": "markdown",
   "metadata": {},
   "source": [
    "- `train_df`에는 1691~1695개의 결측치가 있음\n",
    "    - 그러나 결측치가 있는 행은 전체 데이터의 0.3%이므로 제거"
   ]
  },
  {
   "cell_type": "code",
   "execution_count": 16,
   "metadata": {},
   "outputs": [
    {
     "name": "stdout",
     "output_type": "stream",
     "text": [
      "0.003511941637538616\n"
     ]
    }
   ],
   "source": [
    "print(max(train_df.isnull().sum()) / train_df.shape[0])"
   ]
  },
  {
   "cell_type": "code",
   "execution_count": 17,
   "metadata": {},
   "outputs": [
    {
     "data": {
      "text/plain": [
       "Date            1691\n",
       "Time            1691\n",
       "SerialNumber    1691\n",
       "Voltage         1690\n",
       "Current         1691\n",
       "                ... \n",
       "M15T01          1695\n",
       "M15T02          1695\n",
       "M16T01          1695\n",
       "M16T02          1695\n",
       "chg                0\n",
       "Length: 232, dtype: int64"
      ]
     },
     "execution_count": 17,
     "metadata": {},
     "output_type": "execute_result"
    }
   ],
   "source": [
    "train_df.isnull().sum()"
   ]
  },
  {
   "cell_type": "code",
   "execution_count": 18,
   "metadata": {},
   "outputs": [
    {
     "name": "stdout",
     "output_type": "stream",
     "text": [
      "0\n"
     ]
    }
   ],
   "source": [
    "train_df.dropna(axis=0, inplace=True)\n",
    "print(sum(test_df.isnull().sum() > 0))"
   ]
  },
  {
   "cell_type": "markdown",
   "metadata": {},
   "source": [
    "- `test_df`에는 결측치가 없음"
   ]
  },
  {
   "cell_type": "code",
   "execution_count": 19,
   "metadata": {},
   "outputs": [
    {
     "data": {
      "text/plain": [
       "0"
      ]
     },
     "execution_count": 19,
     "metadata": {},
     "output_type": "execute_result"
    }
   ],
   "source": [
    "sum(test_df.isnull().sum() > 0)"
   ]
  },
  {
   "cell_type": "markdown",
   "metadata": {},
   "source": [
    "#### **2.3 Duplicates**"
   ]
  },
  {
   "cell_type": "markdown",
   "metadata": {},
   "source": [
    "- `train_df`와 `test_df` 모두 중복 값이 존재하지 않음"
   ]
  },
  {
   "cell_type": "code",
   "execution_count": 20,
   "metadata": {},
   "outputs": [
    {
     "name": "stdout",
     "output_type": "stream",
     "text": [
      "0\n",
      "0\n"
     ]
    }
   ],
   "source": [
    "print(train_df[train_df.duplicated()].shape[0])\n",
    "print(test_df[test_df.duplicated()].shape[0])"
   ]
  },
  {
   "cell_type": "markdown",
   "metadata": {},
   "source": [
    "#### **2.4 Outliers**"
   ]
  },
  {
   "cell_type": "markdown",
   "metadata": {},
   "source": [
    "- IQR을 이용하여 이상치 제거"
   ]
  },
  {
   "cell_type": "code",
   "execution_count": 21,
   "metadata": {},
   "outputs": [],
   "source": [
    "def remove_outliers(df, c):\n",
    "    col_num = df.select_dtypes(include='number').columns.to_list()\n",
    "    df_num = df.loc[:, col_num]\n",
    "    \n",
    "    Q1 = df_num.quantile(0.25)\n",
    "    Q3 = df_num.quantile(0.75)\n",
    "    IQR = Q3 - Q1\n",
    "\n",
    "    outlier_idx = ((df_num.lt(Q1 - c * IQR)) | (df_num.gt(Q3 + c * IQR))).any(axis=1)\n",
    "    \n",
    "    return df[~outlier_idx]"
   ]
  },
  {
   "cell_type": "code",
   "execution_count": 22,
   "metadata": {},
   "outputs": [
    {
     "name": "stdout",
     "output_type": "stream",
     "text": [
      "전: (480944, 232)\n",
      "후: (436295, 232)\n"
     ]
    }
   ],
   "source": [
    "print('전:', train_df.shape)\n",
    "\n",
    "train_df = remove_outliers(train_df, 4)\n",
    "print('후:', train_df.shape)"
   ]
  }
 ],
 "metadata": {
  "kernelspec": {
   "display_name": "MLOps",
   "language": "python",
   "name": "python3"
  },
  "language_info": {
   "codemirror_mode": {
    "name": "ipython",
    "version": 3
   },
   "file_extension": ".py",
   "mimetype": "text/x-python",
   "name": "python",
   "nbconvert_exporter": "python",
   "pygments_lexer": "ipython3",
   "version": "3.8.19"
  }
 },
 "nbformat": 4,
 "nbformat_minor": 2
}
